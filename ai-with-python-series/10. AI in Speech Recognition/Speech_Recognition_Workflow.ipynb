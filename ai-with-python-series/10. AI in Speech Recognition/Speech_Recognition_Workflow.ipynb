{
  "nbformat": 4,
  "nbformat_minor": 0,
  "metadata": {
    "colab": {
      "name": "Speech Recognition Workflow.ipynb",
      "provenance": []
    },
    "kernelspec": {
      "name": "python3",
      "display_name": "Python 3"
    },
    "language_info": {
      "name": "python"
    }
  },
  "cells": [
    {
      "cell_type": "code",
      "metadata": {
        "id": "Zr8saN_syu3b"
      },
      "source": [
        "# Source of the Audio File: Sample Audio File Download\n",
        "# Import the packages needed for this analysis\n",
        "import numpy as np\n",
        "import matplotlib.pyplot as plt\n",
        "from scipy.io import wavfile"
      ],
      "execution_count": 1,
      "outputs": []
    },
    {
      "cell_type": "code",
      "metadata": {
        "colab": {
          "base_uri": "https://localhost:8080/"
        },
        "id": "IYk8djdoy70c",
        "outputId": "871147cf-535a-4cdd-c582-8ea00683829f"
      },
      "source": [
        "freq_sample, sig_audio = wavfile.read(\"/content/Welcome.wav\")\n"
      ],
      "execution_count": 5,
      "outputs": [
        {
          "output_type": "stream",
          "text": [
            "/usr/local/lib/python3.7/dist-packages/ipykernel_launcher.py:1: WavFileWarning: Chunk (non-data) not understood, skipping it.\n",
            "  \"\"\"Entry point for launching an IPython kernel.\n"
          ],
          "name": "stderr"
        }
      ]
    },
    {
      "cell_type": "code",
      "metadata": {
        "colab": {
          "base_uri": "https://localhost:8080/"
        },
        "id": "zUi-bpIo02Ka",
        "outputId": "e606853f-76b6-4413-fd56-f5fb7faf2ad1"
      },
      "source": [
        "# Output the parameters: Signal Data Type, Sampling Frequency and Duration\n",
        "print('\\nShape of Signal:', sig_audio.shape)\n",
        "print('Signal Datatype:', sig_audio.dtype)\n",
        "print('Signal duration:', round(sig_audio.shape[0] / float(freq_sample), 2), 'seconds')"
      ],
      "execution_count": 6,
      "outputs": [
        {
          "output_type": "stream",
          "text": [
            "\n",
            "Shape of Signal: (645632,)\n",
            "Signal Datatype: int16\n",
            "Signal duration: 40.35 seconds\n"
          ],
          "name": "stdout"
        }
      ]
    },
    {
      "cell_type": "code",
      "metadata": {
        "colab": {
          "base_uri": "https://localhost:8080/",
          "height": 295
        },
        "id": "RPEgyUoG1sck",
        "outputId": "6c196a6a-7845-49c2-9da2-c281aca0838b"
      },
      "source": [
        "# Normalize the signal values\n",
        "pow_audio_signal = sig_audio / np.power(2, 15)\n",
        "# We shall now extract the first 100 values from the signal \n",
        "pow_audio_signal = pow_audio_signal [:100]\n",
        "time_axis = 1000 * np.arange(0, len(pow_audio_signal), 1) / float(freq_sample)\n",
        "\n",
        "# Visualize the signal\n",
        "plt.plot(time_axis, pow_audio_signal, color='blue')\n",
        "plt.xlabel('Time (milliseconds)')\n",
        "plt.ylabel('Amplitude')\n",
        "plt.title('Input audio signal')\n",
        "plt.show()"
      ],
      "execution_count": 7,
      "outputs": [
        {
          "output_type": "display_data",
          "data": {
            "image/png": "[encoded data removed]",
            "text/plain": [
              "<Figure size 432x288 with 1 Axes>"
            ]
          },
          "metadata": {
            "tags": [],
            "needs_background": "light"
          }
        }
      ]
    },
    {
      "cell_type": "code",
      "metadata": {
        "id": "5YY8G8VP1ynz"
      },
      "source": [
        "sig_audio = sig_audio / np.power(2, 15)"
      ],
      "execution_count": 8,
      "outputs": []
    },
    {
      "cell_type": "code",
      "metadata": {
        "id": "z2FVXDL57dsg"
      },
      "source": [
        "# Extracting the length and the half-length of the signal to input to the foruier transform\n",
        "sig_length = len(sig_audio)\n",
        "half_length = np.ceil((sig_length + 1) / 2.0).astype(np.int)\n",
        "# We will now be using the Fourier Transform to form the frequency domain of the signal\n",
        "signal_freq = np.fft.fft(sig_audio)\n",
        "# Normalize the frequency domain and square it \n",
        "signal_freq = abs(signal_freq[0:half_length]) / sig_length\n",
        "signal_freq **= 2\n",
        "transform_len = len(signal_freq)"
      ],
      "execution_count": 9,
      "outputs": []
    },
    {
      "cell_type": "code",
      "metadata": {
        "colab": {
          "base_uri": "https://localhost:8080/",
          "height": 279
        },
        "id": "a2HRz6UY7hXE",
        "outputId": "53af4db3-1168-42ed-ebbf-8aaab4b6e7a7"
      },
      "source": [
        "# The Fourier transformed signal now needs to be adjusted for both even and odd cases\n",
        "if sig_length % 2:\n",
        "    signal_freq[1:transform_len] *= 2\n",
        "else:\n",
        "    signal_freq[1:transform_len-1] *= 2\n",
        "# Extract the signal's strength in decibels (dB)\n",
        "exp_signal = 10 * np.log10(signal_freq)\n",
        "x_axis = np.arange(0, half_length, 1) * (freq_sample / sig_length) / 1000.0\n",
        "plt.figure()\n",
        "plt.plot(x_axis, exp_signal, color='green', linewidth=1)\n",
        "plt.xlabel('Frequency Representation (kHz)')\n",
        "plt.ylabel('Power of Signal (dB)')\n",
        "plt.show()"
      ],
      "execution_count": 10,
      "outputs": [
        {
          "output_type": "display_data",
          "data": {
            "image/png": "[encoded data removed]",
            "text/plain": [
              "<Figure size 432x288 with 1 Axes>"
            ]
          },
          "metadata": {
            "tags": [],
            "needs_background": "light"
          }
        }
      ]
    },
    {
      "cell_type": "code",
      "metadata": {
        "colab": {
          "base_uri": "https://localhost:8080/"
        },
        "id": "J0iFO_1u7ksH",
        "outputId": "0cbc4589-e825-4020-f90b-808f725a06eb"
      },
      "source": [
        "pip install python_speech_features"
      ],
      "execution_count": 11,
      "outputs": [
        {
          "output_type": "stream",
          "text": [
            "Collecting python_speech_features\n",
            "  Downloading https://files.pythonhosted.org/packages/ff/d1/94c59e20a2631985fbd2124c45177abaa9e0a4eee8ba8a305aa26fc02a8e/python_speech_features-0.6.tar.gz\n",
            "Building wheels for collected packages: python-speech-features\n",
            "  Building wheel for python-speech-features (setup.py) ... \u001b[?25l\u001b[?25hdone\n",
            "  Created wheel for python-speech-features: filename=python_speech_features-0.6-cp37-none-any.whl size=5888 sha256=7f3d3360efd4d2bb5043a76cd212bcb321cd041711ae2217fec79ae9fdb7fdc0\n",
            "  Stored in directory: /root/.cache/pip/wheels/3c/42/7c/f60e9d1b40015cd69b213ad90f7c18a9264cd745b9888134be\n",
            "Successfully built python-speech-features\n",
            "Installing collected packages: python-speech-features\n",
            "Successfully installed python-speech-features-0.6\n"
          ],
          "name": "stdout"
        }
      ]
    },
    {
      "cell_type": "code",
      "metadata": {
        "colab": {
          "base_uri": "https://localhost:8080/"
        },
        "id": "RjCruKD--oEy",
        "outputId": "9e9f8ee0-62d2-4862-c567-18f335627e74"
      },
      "source": [
        "from python_speech_features import mfcc, logfbank\n",
        "sampling_freq, sig_audio = wavfile.read(\"/content/Welcome.wav\")"
      ],
      "execution_count": 16,
      "outputs": [
        {
          "output_type": "stream",
          "text": [
            "/usr/local/lib/python3.7/dist-packages/ipykernel_launcher.py:2: WavFileWarning: Chunk (non-data) not understood, skipping it.\n",
            "  \n"
          ],
          "name": "stderr"
        }
      ]
    },
    {
      "cell_type": "code",
      "metadata": {
        "colab": {
          "base_uri": "https://localhost:8080/"
        },
        "id": "I-WW7rdV-sGw",
        "outputId": "1410da84-7cd2-4303-bb04-6cf59b510944"
      },
      "source": [
        "# We will now be taking the first 15000 samples from the signal for analysis\n",
        "sig_audio = sig_audio[:15000]\n",
        "# Using MFCC to extract features from the signal\n",
        "mfcc_feat = mfcc(sig_audio, sampling_freq)\n",
        "print('\\nMFCC Parameters\\nWindow Count =', mfcc_feat.shape[0])\n",
        "print('Individual Feature Length =', mfcc_feat.shape[1])"
      ],
      "execution_count": 17,
      "outputs": [
        {
          "output_type": "stream",
          "text": [
            "\n",
            "MFCC Parameters\n",
            "Window Count = 93\n",
            "Individual Feature Length = 13\n"
          ],
          "name": "stdout"
        }
      ]
    },
    {
      "cell_type": "code",
      "metadata": {
        "colab": {
          "base_uri": "https://localhost:8080/",
          "height": 198
        },
        "id": "Fl85a9NA-u8O",
        "outputId": "ff1bf8c0-fb19-460f-ca96-9739564d0f23"
      },
      "source": [
        "mfcc_feat = mfcc_feat.T\n",
        "plt.matshow(mfcc_feat)\n",
        "plt.title('MFCC Features')"
      ],
      "execution_count": 18,
      "outputs": [
        {
          "output_type": "execute_result",
          "data": {
            "text/plain": [
              "Text(0.5, 1.05, 'MFCC Features')"
            ]
          },
          "metadata": {
            "tags": []
          },
          "execution_count": 18
        },
        {
          "output_type": "display_data",
          "data": {
            "image/png": "[encoded data removed]",
            "text/plain": [
              "<Figure size 1152x161.032 with 1 Axes>"
            ]
          },
          "metadata": {
            "tags": [],
            "needs_background": "light"
          }
        }
      ]
    },
    {
      "cell_type": "code",
      "metadata": {
        "colab": {
          "base_uri": "https://localhost:8080/"
        },
        "id": "xgHGLBOY_DWm",
        "outputId": "7106ba5d-7379-4349-c893-c334068e9e9b"
      },
      "source": [
        "# The first horizontal yellow lines below every segment are the fundamental frequency and at its strongest. Above the yellow line are the harmonics that share the same frequency distance between them\n",
        "# Generating filter bank features\n",
        "fb_feat = logfbank(sig_audio, sampling_freq)\n",
        "print('\\nFilter bank\\nWindow Count =', fb_feat.shape[0])\n",
        "print('Individual Feature Length =', fb_feat.shape[1])"
      ],
      "execution_count": 19,
      "outputs": [
        {
          "output_type": "stream",
          "text": [
            "\n",
            "Filter bank\n",
            "Window Count = 93\n",
            "Individual Feature Length = 26\n"
          ],
          "name": "stdout"
        }
      ]
    },
    {
      "cell_type": "code",
      "metadata": {
        "colab": {
          "base_uri": "https://localhost:8080/",
          "height": 285
        },
        "id": "RWDgFuB1_HLq",
        "outputId": "84ab5d40-b9e2-4d65-fc75-2ed599c6761e"
      },
      "source": [
        "fb_feat = fb_feat.T\n",
        "plt.matshow(fb_feat)\n",
        "plt.title('Features from Filter bank')\n",
        "plt.show()"
      ],
      "execution_count": 20,
      "outputs": [
        {
          "output_type": "display_data",
          "data": {
            "image/png": "[encoded data removed]",
            "text/plain": [
              "<Figure size 1030.15x288 with 1 Axes>"
            ]
          },
          "metadata": {
            "tags": [],
            "needs_background": "light"
          }
        }
      ]
    }
  ]
}